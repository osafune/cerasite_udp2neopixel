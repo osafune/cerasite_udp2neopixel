{
 "cells": [
  {
   "cell_type": "code",
   "execution_count": 1,
   "metadata": {},
   "outputs": [],
   "source": [
    "# ライブラリimport\n",
    "\n",
    "from socket import socket, AF_INET, SOCK_DGRAM\n",
    "from struct import *\n",
    "from datetime import *\n",
    "\n",
    "def print_bin(label, bin):\n",
    "\tprint(label, end=\" : \")\n",
    "\tfor i in bin:\n",
    "\t\tprint(format(i, \"02x\"), end=\" \")\n",
    "\tprint(\"\")\n",
    "\n",
    "# UDPソケット\n",
    "\n",
    "SOCKET_BUFFSIZE = 2048\n",
    "ETHIO_SERVER = ('192.168.1.204', 16241)\n",
    "sock = socket(AF_INET, SOCK_DGRAM)\n",
    "\n",
    "# コマンドパケット作成（データバイト長は1472以下であること）\n",
    "\n",
    "ETHIO_PACKET_FOURCC = b'AVMM'\n",
    "ETHIO_PACKET_ENDCMD = b'\\x7f\\x00\\xff\\xff'\n",
    "\n",
    "def data_padding(data):\n",
    "\treturn data + b'\\x00' * ((4 - len(data)) & 3)\n",
    "\n",
    "def cmd_memwr(addr, wrbyte):\n",
    "\treturn pack('!BxHL', 0x44, len(wrbyte), addr) + data_padding(wrbyte)\n",
    "\n",
    "def cmd_memrd(addr, readnum):\n",
    "\treturn pack('!BxHL', 0x54, readnum, addr)\n",
    "\n",
    "def cmd_fifowr(ch, wrbyte):\n",
    "\treturn pack('!BxH', 0x20 | (ch & 15), len(wrbyte)) + data_padding(wrbyte)\n",
    "\n",
    "def cmd_fiford(ch, readnum):\n",
    "\treturn pack('!BxH', 0x30 | (ch & 15), readnum)\n"
   ]
  },
  {
   "cell_type": "code",
   "execution_count": 2,
   "metadata": {},
   "outputs": [],
   "source": [
    "# NeoPixel制御用関数\n",
    "\n",
    "def pixel(r, g, b):\n",
    "\tr = 0 if r<0 else 254 if r>254 else int(r)\n",
    "\tg = 0 if g<0 else 254 if g>254 else int(g)\n",
    "\tb = 0 if b<0 else 254 if b>254 else int(b)\n",
    "\treturn pack('BBB', g,r,b)\n",
    "\n",
    "def hsv_to_rgb(h, s, v): # h:0.0~1.0, s:0.0~1.0, v:0.0~1.0\n",
    "\tif s == 0.0: v*=255; return (v, v, v)\n",
    "\ti = int(h*6.) # XXX assume int() truncates!\n",
    "\tf = (h*6.)-i; p,q,t = int(255*(v*(1.-s))), int(255*(v*(1.-s*f))), int(255*(v*(1.-s*(1.-f)))); v*=255; i%=6\n",
    "\tif i == 0: return (v, t, p)\n",
    "\tif i == 1: return (q, v, p)\n",
    "\tif i == 2: return (p, v, t)\n",
    "\tif i == 3: return (p, q, v)\n",
    "\tif i == 4: return (t, p, v)\n",
    "\tif i == 5: return (v, p, q)\n",
    "\n",
    "def rainbow(phase, bright, pixelnum):\n",
    "\tled_data = bytes()\n",
    "\tfor i in range(pixelnum):\n",
    "\t\tr,g,b = hsv_to_rgb(phase, 1.0, bright)\n",
    "\t\tled_data += pixel(r,g,b)\n",
    "\t\tphase += 1.0/pixelnum\n",
    "\n",
    "\treturn led_data\n"
   ]
  },
  {
   "cell_type": "code",
   "execution_count": null,
   "metadata": {},
   "outputs": [],
   "source": [
    "# レインボーアニメーション\n",
    "\n",
    "import time\n",
    "\n",
    "phase = [0.0, 0.0, 0.0, 0.5]\n",
    "speed = [0.01, 0.017, 0.05, 0.05]\n",
    "pixelnum = [60, 60, 60, 60]\t\t# チャネルあたり340個以下、全チャネル合計では470個以下にすること\n",
    "\n",
    "while True:\n",
    "\tsend_bin = ETHIO_PACKET_FOURCC\n",
    "\tfor i in range(4):\n",
    "\t\tsend_bin += cmd_fifowr(i, rainbow(phase[i], 0.1, pixelnum[i]))\n",
    "\t\tphase[i] += speed[i]\n",
    "\tsend_bin += ETHIO_PACKET_ENDCMD\n",
    "\n",
    "\tsock.sendto(send_bin, ETHIO_SERVER)\n",
    "\tres_bin, addr = sock.recvfrom(SOCKET_BUFFSIZE)\n",
    "\n",
    "\ttime.sleep(30/1000)\n"
   ]
  }
 ],
 "metadata": {
  "kernelspec": {
   "display_name": "Python 3.9.12 ('base')",
   "language": "python",
   "name": "python3"
  },
  "language_info": {
   "codemirror_mode": {
    "name": "ipython",
    "version": 3
   },
   "file_extension": ".py",
   "mimetype": "text/x-python",
   "name": "python",
   "nbconvert_exporter": "python",
   "pygments_lexer": "ipython3",
   "version": "3.9.12"
  },
  "orig_nbformat": 4,
  "vscode": {
   "interpreter": {
    "hash": "2b75a13a3fc5e691bf71645d384f9cf06e1b02923ac00a4b35d696d35c94d2a1"
   }
  }
 },
 "nbformat": 4,
 "nbformat_minor": 2
}
